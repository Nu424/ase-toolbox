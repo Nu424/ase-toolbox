{
 "cells": [
  {
   "cell_type": "markdown",
   "id": "70f7bcbd",
   "metadata": {},
   "source": [
    "# ase-toolbox.ipynb\n",
    "ASEによる化学シミュレーションでよく使うコードと、作ったヘルパー関数をまとめておくやつ。"
   ]
  },
  {
   "cell_type": "markdown",
   "id": "2178a827",
   "metadata": {},
   "source": [
    "### 🟡計算機を用意する(Matlantis環境)"
   ]
  },
  {
   "cell_type": "code",
   "execution_count": null,
   "id": "f3549a8c",
   "metadata": {},
   "outputs": [],
   "source": [
    "import pfp_api_client\n",
    "from pfp_api_client.pfp.calculators.ase_calculator import ASECalculator\n",
    "from pfp_api_client.pfp.estimator import Estimator, EstimatorCalcMode\n",
    "\n",
    "# バージョンによって計算結果が異なる場合があるため、毎回バージョンを確認する\n",
    "print(f\"pfp_api_client: {pfp_api_client.__version__}\")\n",
    "\n",
    "# ASECalculatorを使用するための設定\n",
    "# EstimatorCalcModeは、以下のように使い分ける\n",
    "# - 一般の系： EstimatorCalcMode.CRYSTAL_U0 Uなしモード\n",
    "# - 酸化物など： EstimatorCalcMode.CRYSTAL　Uありモード\n",
    "# - 単体有機分子： EstimatorCalcMode.MOLECULE 分子モード\n",
    "estimator = Estimator(calc_mode=EstimatorCalcMode.MOLECULE)\n",
    "calculator = ASECalculator(estimator)  # このcalculatorをatoms.calcに設定して使用する\n"
   ]
  },
  {
   "cell_type": "markdown",
   "id": "788c4ebb",
   "metadata": {},
   "source": [
    "### 🟡matplotlibで日本語を表示する"
   ]
  },
  {
   "cell_type": "code",
   "execution_count": null,
   "id": "c686d318",
   "metadata": {},
   "outputs": [],
   "source": [
    "import matplotlib.pyplot as plt\n",
    "\n",
    "# ---matplotlibで日本語を表示する\n",
    "plt.rcParams[\"font.family\"] = [\n",
    "    \"DejaVu Sans\",\n",
    "    \"Hiragino Sans\",\n",
    "    \"Yu Gothic\",\n",
    "    \"Meiryo\",\n",
    "    \"Takao\",\n",
    "    \"IPAexGothic\",\n",
    "    \"IPAPGothic\",\n",
    "    \"VL PGothic\",\n",
    "    \"Noto Sans CJK JP\",\n",
    "]\n",
    "# Windows環境での代替設定\n",
    "try:\n",
    "    import matplotlib.font_manager as fm\n",
    "\n",
    "    # 日本語フォントを探す\n",
    "    font_list = [\n",
    "        f.name\n",
    "        for f in fm.fontManager.ttflist\n",
    "        if \"gothic\" in f.name.lower()\n",
    "        or \"mincho\" in f.name.lower()\n",
    "        or \"meiryo\" in f.name.lower()\n",
    "    ]\n",
    "    if font_list:\n",
    "        plt.rcParams[\"font.family\"] = font_list[0]\n",
    "    else:\n",
    "        # フォールバック: Unicode対応\n",
    "        plt.rcParams[\"font.family\"] = \"DejaVu Sans\"\n",
    "except:\n",
    "    pass\n",
    "\n",
    "plt.rcParams[\"font.family\"]\n"
   ]
  },
  {
   "cell_type": "markdown",
   "id": "fbeadeb7",
   "metadata": {},
   "source": [
    "### 🟡可視化する"
   ]
  },
  {
   "cell_type": "code",
   "execution_count": null,
   "id": "baa6ccbf",
   "metadata": {},
   "outputs": [],
   "source": [
    "from pfcc_extras.visualize.view import view_ngl\n",
    "from ase.build import bulk\n",
    "\n",
    "view_ngl(bulk(\"Cu\"), representations=[\"ball+stick\"], w=400, h=300)"
   ]
  },
  {
   "cell_type": "markdown",
   "id": "8cd93ccb",
   "metadata": {},
   "source": [
    "### 🟡最適化\n",
    "\n",
    "#### 最適化アルゴリズムについて\n",
    "- 局所最適へのたどり着き方(=アルゴリズム)は、いろいろある\n",
    "- 選び方\n",
    "    - 基本的に`LBFGSLineSearch`か`FIRE`を使えば良いらしい\n",
    "        - `LBFGSLineSearch`がうまくいかなかったら`FIRE`を使う、みたいな\n",
    "    - 選ぶのが面倒なら、上の2つを組み合わせた`FIRELBFGS`を使うと良い\n",
    "        - Matlantisオリジナルの最適化アルゴリズム\n",
    "        - 使用方法は、2つ下のセルに示す\n",
    "    - 局所最適を探すアルゴリズムの違いなだけなので、シミュレーションに大きく差が生じることはないのかもしれない\n",
    "- 参考文献\n",
    "    - https://docs.matlantis.com/atomistic-simulation-tutorial/ja/2_3_opt-algorithm.html"
   ]
  },
  {
   "cell_type": "code",
   "execution_count": null,
   "id": "7b3b67c2",
   "metadata": {},
   "outputs": [],
   "source": [
    "from ase.optimize import FIRE, LBFGSLineSearch\n",
    "\n",
    "opt = FIRE(atoms)\n",
    "opt.run(fmax=0.001)\n"
   ]
  },
  {
   "cell_type": "code",
   "execution_count": null,
   "id": "1cd1b5f0",
   "metadata": {},
   "outputs": [],
   "source": [
    "# FIRELBFGS 最適化アルゴリズムの使い方(Matlantisオリジナル)\n",
    "from matlantis_features.ase_ext.optimize import FIRELBFGS\n",
    "\n",
    "opt = FIRELBFGS(atoms)\n",
    "opt.run(fmax=0.001)\n"
   ]
  },
  {
   "cell_type": "markdown",
   "id": "80ba0685",
   "metadata": {},
   "source": [
    "### 🟡書き出す"
   ]
  },
  {
   "cell_type": "code",
   "execution_count": null,
   "id": "a51f8fa3",
   "metadata": {},
   "outputs": [],
   "source": [
    "# 内蔵ライブラリからcifファイルを作成する\n",
    "from ase.build import molecule\n",
    "from ase.io import write\n",
    "\n",
    "# 出力先ディレクトリ（必要に応じて変更）\n",
    "output_dir = \"./\"\n",
    "\n",
    "# 分子リスト\n",
    "species = [\"CO2\", \"CO\", \"H2\", \"H2O\", \"O2\"]\n",
    "\n",
    "for sym in species:\n",
    "    mol = molecule(sym)  # ASE 内蔵の分子ライブラリから生成\n",
    "    filename = f\"{output_dir}{sym}.cif\"\n",
    "    write(filename, mol)  # CIF 形式で保存\n",
    "    print(f\"Written: {filename}\")\n"
   ]
  },
  {
   "cell_type": "markdown",
   "id": "48653df4",
   "metadata": {},
   "source": [
    "## 🔴構造を作る"
   ]
  },
  {
   "cell_type": "markdown",
   "id": "8c20e427",
   "metadata": {},
   "source": [
    "### 🟡基本的な構造"
   ]
  },
  {
   "cell_type": "code",
   "execution_count": null,
   "id": "112424f7",
   "metadata": {},
   "outputs": [],
   "source": [
    "from ase.build import molecule, bulk, surface\n",
    "from ase.io import read, write\n",
    "\n",
    "# ---分子\n",
    "co = molecule(\"CO\")\n",
    "\n",
    "# ---結晶\n",
    "cu = bulk(\"Cu\")\n",
    "# 増やす\n",
    "_cu = cu * (2, 3, 4)\n",
    "\n",
    "# ---表面\n",
    "slab = surface(\n",
    "    lattice=cu, indices=(1, 1, 1), layers=2, vacuum=10.0\n",
    ")*(4,4,1)  # cuの、(111)面を2層で真空層10.0Åで切り出す\n",
    "\n",
    "# ---ファイルから\n",
    "# cif,xyz,vaspからいけるらしい\n",
    "# cu2o=read('Cu2O.cif')\n",
    "\n",
    "# ---構造のコピー\n",
    "# Pythonのルールとして、cu_copy = cu とするだけだと、cu_copyもcuも同じものを指し示してしまう\n",
    "# (「Python 参照渡し」とかを調べるとわかる)\n",
    "# copy()を使えば、別のオブジェクトとして扱える\n",
    "\n",
    "\n",
    "cu_copy = cu.copy()\n",
    "cu_copy[0].symbol = \"O\"  # コピー先の原子を変えてみる\n",
    "print(\"=== cu_copy = cu.copy()の場合 ===\")\n",
    "print(f\"コピー元: {cu[0].symbol}\")  # コピー元: Cu\n",
    "print(f\"コピー先: {cu_copy[0].symbol}\")  # コピー先: O\n",
    "# copy()することで、コピー元とコピー先が別のものを指し示すようになる\n",
    "\n",
    "cu_ref = cu\n",
    "cu_ref[0].symbol = \"O\"\n",
    "print(\"=== cu_ref = cuの場合 ===\")\n",
    "print(f\"コピー元: {cu_ref[0].symbol}\")  # コピー元: O\n",
    "print(f\"コピー先: {cu[0].symbol}\")  # コピー先: O\n",
    "# そのまま = で代入すると、コピー元とコピー先が同じものを指し示してしまうので、どちらも置き換わってしまう\n"
   ]
  },
  {
   "cell_type": "markdown",
   "id": "47162162",
   "metadata": {},
   "source": [
    "### 🟡クラスター"
   ]
  },
  {
   "cell_type": "code",
   "execution_count": null,
   "id": "f81a7abe",
   "metadata": {},
   "outputs": [],
   "source": [
    "from ase.cluster import Icosahedron, Octahedron\n",
    "from pfcc_extras.visualize.view import view_ngl\n",
    "\n",
    "# ---八面体\n",
    "# 正八面体\n",
    "_cluster = Octahedron(\n",
    "    \"Cu\",\n",
    "    length=7,  # 層の数\n",
    "    cutoff=0,  # 頂点をどれくらい切るか。0だと切らない。\n",
    ")\n",
    "\n",
    "# 切頂八面体: 頂点が切られている八面体\n",
    "_cluster = Octahedron(\"Cu\", length=7, cutoff=2)\n",
    "\n",
    "# 正切頂八面体\n",
    "_cluster = Octahedron(\n",
    "    \"Cu\",\n",
    "    length=7,  # length=3*cutoff+1で、正切頂八面体となる\n",
    "    cutoff=2,\n",
    ")\n",
    "\n",
    "# 立方八面体\n",
    "_cluster = Octahedron(\n",
    "    \"Cu\",\n",
    "    length=5,  # length=2*cutoff+1で、立方八面体となる\n",
    "    cutoff=2,\n",
    ")\n",
    "\n",
    "# ---二十面体\n",
    "_cluster = Icosahedron(\n",
    "    \"Cu\",\n",
    "    noshells=5,  # 原子の数\n",
    ")\n",
    "\n",
    "# クラスターの原子数の確認\n",
    "print(f\"原子数: {len(_cluster)}\")\n",
    "\n",
    "# 構造を可視化してみる\n",
    "view_ngl(_cluster, representations=[\"ball+stick\"], w=400, h=300)\n"
   ]
  },
  {
   "cell_type": "markdown",
   "id": "254a6eb1",
   "metadata": {},
   "source": [
    "### 🟡特定の原子を探す"
   ]
  },
  {
   "cell_type": "code",
   "execution_count": null,
   "id": "9d76353d",
   "metadata": {},
   "outputs": [],
   "source": [
    "# 準備\n",
    "from ase.cluster import Icosahedron\n",
    "from ase.build import surface, bulk\n",
    "\n",
    "test_slab = surface(bulk(\"Cu\"), indices=(1, 1, 1), layers=2, vacuum=10.0) * (4, 4, 1)\n",
    "test_cluster = Icosahedron(\"Cu\", noshells=5)"
   ]
  },
  {
   "cell_type": "markdown",
   "id": "973abec0",
   "metadata": {},
   "source": [
    "#### 🟢インデックスでピンポイントに指定する"
   ]
  },
  {
   "cell_type": "code",
   "execution_count": null,
   "id": "44537ea0",
   "metadata": {},
   "outputs": [],
   "source": [
    "from ase_toolbox.FindAtoms import find_atom_by_index\n",
    "\n",
    "# test_slabの0番目の原子を探す\n",
    "find_atom_by_index(test_slab, 0)"
   ]
  },
  {
   "cell_type": "markdown",
   "id": "ba5cd32f",
   "metadata": {},
   "source": [
    "#### 🟢指定した原子のインデックスを調べる"
   ]
  },
  {
   "cell_type": "code",
   "execution_count": null,
   "id": "8fb0c4c9",
   "metadata": {},
   "outputs": [],
   "source": [
    "from ase_toolbox.FindAtoms import find_indices_by_symbol\n",
    "\n",
    "# Cu原子のインデックスを調べる\n",
    "find_indices_by_symbol(test_slab, \"Cu\")\n"
   ]
  },
  {
   "cell_type": "markdown",
   "id": "3d98f3d9",
   "metadata": {},
   "source": [
    "#### 🟢隣接原子を探す"
   ]
  },
  {
   "cell_type": "code",
   "execution_count": null,
   "id": "44b38ae4",
   "metadata": {},
   "outputs": [],
   "source": [
    "from ase_toolbox.FindAtoms import get_neighbors\n",
    "\n",
    "# test_slabの0番目の原子の、隣接原子を探す\n",
    "neighbor_atoms = get_neighbors(test_slab, 0)\n",
    "\n",
    "# 引数には、Atomオブジェクトを指定することもできる\n",
    "neighbor_neighbor_atoms = get_neighbors(test_slab, neighbor_atoms[0])\n",
    "\n",
    "# 返値は、インデックスのリストにすることもできる\n",
    "neighbor_atoms = get_neighbors(test_slab, 0, return_type=\"indices\")\n"
   ]
  },
  {
   "cell_type": "markdown",
   "id": "c20e15cc",
   "metadata": {},
   "source": [
    "#### 🟢(平面用)層別に分ける・層ごとのlistにする"
   ]
  },
  {
   "cell_type": "code",
   "execution_count": null,
   "id": "24dd83d0",
   "metadata": {},
   "outputs": [],
   "source": [
    "from ase_toolbox.FindAtoms import separate_layers\n",
    "\n",
    "# test_slabを層にわける\n",
    "layers = separate_layers(test_slab)\n",
    "\n",
    "# 層の数\n",
    "print(f\"層の数: {len(layers)}\")\n",
    "\n",
    "# 一番下の層\n",
    "layers[0]\n",
    "\n",
    "# 一番上の層\n",
    "layers[-1]\n"
   ]
  },
  {
   "cell_type": "markdown",
   "id": "e3fc8ada",
   "metadata": {},
   "source": [
    "#### 🟢(クラスター用)表面・内側を探す"
   ]
  },
  {
   "cell_type": "code",
   "execution_count": null,
   "id": "50e4b184",
   "metadata": {},
   "outputs": [],
   "source": [
    "from ase_toolbox.FindAtoms import classify_surface_atoms\n",
    "\n",
    "# test_clusterを、表面原子と内部原子に分ける\n",
    "out_atoms, in_atoms = classify_surface_atoms(test_cluster)\n",
    "\n",
    "# 数を数える\n",
    "print(f\"表面原子数: {len(out_atoms)}\")\n",
    "print(f\"内部原子数: {len(in_atoms)}\")\n"
   ]
  },
  {
   "cell_type": "markdown",
   "id": "6233c2ce",
   "metadata": {},
   "source": [
    "#### 🟢重心に最も近い原子を探す"
   ]
  },
  {
   "cell_type": "code",
   "execution_count": null,
   "id": "49934379",
   "metadata": {},
   "outputs": [],
   "source": [
    "from ase_toolbox.FindAtoms import separate_layers, find_central_atom\n",
    "\n",
    "# 一番上の層を探す\n",
    "layers = separate_layers(test_slab)\n",
    "top_layer = layers[-1]\n",
    "\n",
    "# top_layerの中心原子を探す\n",
    "center_atom = find_central_atom(top_layer)\n",
    "\n",
    "center_atom\n"
   ]
  },
  {
   "cell_type": "markdown",
   "id": "05e5d191",
   "metadata": {},
   "source": [
    "#### 🟢くっつけた後の構造の中で、くっつけた原子のインデックスを知る"
   ]
  },
  {
   "cell_type": "code",
   "execution_count": null,
   "id": "16319e89",
   "metadata": {},
   "outputs": [],
   "source": [
    "from ase.build import add_adsorbate\n",
    "from ase.build import molecule\n",
    "from ase_toolbox.FindAtoms import (\n",
    "    separate_layers,\n",
    "    find_central_atom,\n",
    "    get_appended_atom_indices,\n",
    ")\n",
    "\n",
    "# 一番上の層の真ん中を探す\n",
    "layers = separate_layers(test_slab)\n",
    "center_atom = find_central_atom(layers[-1])\n",
    "\n",
    "# 真ん中に原子を追加する\n",
    "mol = molecule(\"CO\")\n",
    "adsorbed_slab = test_slab.copy()\n",
    "add_adsorbate(adsorbed_slab, mol, 1.6, position=center_atom)\n",
    "\n",
    "# 新しくついた原子のインデックスを調べる\n",
    "get_appended_atom_indices(before_atoms=test_slab, after_atoms=adsorbed_slab)\n"
   ]
  },
  {
   "cell_type": "markdown",
   "id": "3a163b1b",
   "metadata": {},
   "source": [
    "### 🟡構造を作るために計算する"
   ]
  },
  {
   "cell_type": "markdown",
   "id": "6224b7ed",
   "metadata": {},
   "source": [
    "#### 🟢配位数を計算する"
   ]
  },
  {
   "cell_type": "code",
   "execution_count": null,
   "id": "08c7dde0",
   "metadata": {},
   "outputs": [],
   "source": [
    "from ase_toolbox.FindAtoms import separate_layers, find_central_atom\n",
    "from ase_toolbox.CalcValue import coordination_number\n",
    "\n",
    "# 一番上の層の真ん中を探す\n",
    "layers = separate_layers(test_slab)\n",
    "center_atom = find_central_atom(layers[-1])\n",
    "\n",
    "# 中心原子の隣接原子を探す\n",
    "coordination_number(test_slab, center_atom)\n"
   ]
  },
  {
   "cell_type": "markdown",
   "id": "b1c7814f",
   "metadata": {},
   "source": [
    "#### 🟢(クラスター用)法線ベクトルを求める"
   ]
  },
  {
   "cell_type": "code",
   "execution_count": null,
   "id": "cc1ceb1c",
   "metadata": {},
   "outputs": [],
   "source": [
    "from ase_toolbox.CalcValue import compute_surface_normal\n",
    "\n",
    "# test_clusterのインデックス0の原子の法線ベクトルを計算する\n",
    "normal_vector = compute_surface_normal(test_cluster, 0)\n"
   ]
  },
  {
   "cell_type": "markdown",
   "id": "63e8bd6b",
   "metadata": {},
   "source": [
    "### 🟡処理する"
   ]
  },
  {
   "cell_type": "markdown",
   "id": "18a13772",
   "metadata": {},
   "source": [
    "#### 🟢手動で微妙に動かす"
   ]
  },
  {
   "cell_type": "code",
   "execution_count": null,
   "id": "0cca7908",
   "metadata": {},
   "outputs": [],
   "source": [
    "from ase_toolbox.HandleAtoms import move_atoms\n",
    "\n",
    "# test_slabの0番目の原子を、z軸方向に1だけ移動させる\n",
    "moved_slab = move_atoms(\n",
    "    base_atoms=test_slab,\n",
    "    target=0,\n",
    "    direction=[0, 0, 1],\n",
    "    distance=1,\n",
    ")\n"
   ]
  },
  {
   "cell_type": "markdown",
   "id": "0ce0f378",
   "metadata": {},
   "source": [
    "#### 🟢(平面用)層を固定する"
   ]
  },
  {
   "cell_type": "code",
   "execution_count": null,
   "id": "9741f343",
   "metadata": {},
   "outputs": [],
   "source": [
    "from ase_toolbox.HandleAtoms import fix_layers\n",
    "\n",
    "# test_slabを、下から2層目まで固定する\n",
    "fixed_slab = fix_layers(test_slab, 2)\n"
   ]
  },
  {
   "cell_type": "markdown",
   "id": "be73d0f8",
   "metadata": {},
   "source": [
    "#### 🟢置き換える"
   ]
  },
  {
   "cell_type": "code",
   "execution_count": null,
   "id": "60047309",
   "metadata": {},
   "outputs": [],
   "source": [
    "from ase_toolbox.HandleAtoms import substitute_elements\n",
    "from ase_toolbox.FindAtoms import separate_layers\n",
    "\n",
    "# test_slabの0番目、1番目、2番目の原子を、Auに置き換える\n",
    "substituted_slab = substitute_elements(test_slab, [0, 1, 2], \"Au\")\n",
    "\n",
    "# test_slabの一番上の層を、Cu:Au=0.8:0.2に置き換える\n",
    "top_layer = separate_layers(test_slab)[-1]\n",
    "substituted_slab = substitute_elements(test_slab, top_layer, {\"Cu\": 0.8, \"Au\": 0.2})\n"
   ]
  },
  {
   "cell_type": "markdown",
   "id": "b12f1d7f",
   "metadata": {},
   "source": [
    "#### 🟢クラスターにくっつける"
   ]
  },
  {
   "cell_type": "code",
   "execution_count": null,
   "id": "84fc0696",
   "metadata": {},
   "outputs": [],
   "source": [
    "from ase.build import molecule\n",
    "from ase_toolbox.HandleAtoms import place_adsorbate_along_normal\n",
    "\n",
    "# 原子を法線方向に配置する\n",
    "adsorbed_cluster = place_adsorbate_along_normal(\n",
    "    substrate=test_cluster,\n",
    "    adsorbate=molecule(\"CO\"),\n",
    "    target_atom=0,\n",
    "    distance=1.6,\n",
    ")\n"
   ]
  },
  {
   "cell_type": "markdown",
   "id": "ed2b3810",
   "metadata": {},
   "source": [
    "#### 🟢表面にくっつける"
   ]
  },
  {
   "cell_type": "code",
   "execution_count": null,
   "id": "0786b613",
   "metadata": {},
   "outputs": [],
   "source": [
    "from ase.build import molecule\n",
    "from ase_toolbox.HandleAtoms import place_adsorbate_on_surface\n",
    "\n",
    "# 原子を法線方向に配置する\n",
    "adsorbed_cluster = place_adsorbate_on_surface(\n",
    "    substrate=test_slab,\n",
    "    adsorbate=molecule(\"CO\"),\n",
    "    target_atom=None, # Noneで表面の中心。index|Atomで指定も可能\n",
    "    height=2.4,\n",
    "    position=\"hollow\", # top, bridge, hollowが使用可能\n",
    "    allow_search_surface_atom=True, # Trueの場合、target_atomが表面に無くても、そのxy座標に近い表面原子をtarget_atomにする\n",
    "    inplace=False # もとの構造を置き換えるかどうか\n",
    ")\n"
   ]
  },
  {
   "cell_type": "markdown",
   "id": "d35543e9",
   "metadata": {},
   "source": [
    "### 🟡溶媒を作る"
   ]
  },
  {
   "cell_type": "code",
   "execution_count": null,
   "id": "3ee67b6e",
   "metadata": {},
   "outputs": [],
   "source": [
    "# 必要に応じて、Packmolをインストールする\n",
    "!git clone https://github.com/m3g/packmol.git\n",
    "!cd packmol && ./configure && make\n"
   ]
  },
  {
   "cell_type": "code",
   "execution_count": null,
   "id": "a086063e",
   "metadata": {},
   "outputs": [],
   "source": [
    "from ase import Atoms\n",
    "# from ase.cluster import Icosahedron\n",
    "# from ase.build import bulk, surface\n",
    "from ase_toolbox.BuildSolvent import ComponentSpec, build_solvated_system\n",
    "\n",
    "# 簡単なスラブを作成\n",
    "slab = Atoms(\"Au4\", positions=[[0, 0, 0], [2, 0, 0], [0, 2, 0], [2, 2, 0]])\n",
    "# slab = Icosahedron(\n",
    "#     \"Cu\",\n",
    "#     noshells=3,  # 原子の数\n",
    "# )\n",
    "# slab = surface(\n",
    "#     lattice=bulk(\"Cu\"), indices=(1, 1, 1), layers=2, vacuum=10.0\n",
    "# )*(8,8,1)\n",
    "\n",
    "# 溶媒成分を定義\n",
    "components = [\n",
    "    ComponentSpec(\"NaCl\", 1, \"Cl[Na]\"),\n",
    "    # ComponentSpec(\"ethanol\", 1, \"CCO\"),\n",
    "]\n",
    "\n",
    "# 溶媒化システムを構築\n",
    "result = build_solvated_system(\n",
    "    cell=(30, 30, 40),\n",
    "    structure=slab,\n",
    "    components=components,\n",
    "    verbose=True,\n",
    "    packmol_bin=\"packmol/packmol\",\n",
    "    structure_position=(0, 0, -10),\n",
    ")\n"
   ]
  },
  {
   "cell_type": "markdown",
   "id": "334a7510",
   "metadata": {},
   "source": [
    "## 🔴計算する"
   ]
  },
  {
   "cell_type": "markdown",
   "id": "ea64bbae",
   "metadata": {},
   "source": [
    "### 🟡吸着エネルギーを計算する"
   ]
  },
  {
   "cell_type": "code",
   "execution_count": null,
   "id": "32226ca1",
   "metadata": {},
   "outputs": [],
   "source": [
    "from ase.constraints import FixAtoms\n",
    "from ase.build import bulk, surface, add_adsorbate, molecule\n",
    "\n",
    "from pfp_api_client.pfp.calculators.ase_calculator import ASECalculator\n",
    "from pfp_api_client.pfp.estimator import Estimator, EstimatorCalcMode\n",
    "\n",
    "from ase_toolbox.HandleAtoms import fix_layers, separate_layers\n",
    "from ase_toolbox.FindAtoms import find_central_atom\n",
    "from ase_toolbox.Calculation import CAEInput, calculate_adsorption_energy\n",
    "\n",
    "# ----------\n",
    "# ---計算機の用意\n",
    "# ----------\n",
    "estimator = Estimator(calc_mode=EstimatorCalcMode.CRYSTAL_U0)\n",
    "calc_solid = ASECalculator(estimator)  # このcalculatorをatoms.calcに設定して使用する\n",
    "\n",
    "estimator = Estimator(calc_mode=EstimatorCalcMode.MOLECULE)\n",
    "calc_molecule = ASECalculator(estimator)  # このcalculatorをatoms.calcに設定して使用する\n",
    "\n",
    "# ----------\n",
    "# ---構造の作成\n",
    "# ----------\n",
    "# Cu表面 (3x3x4 スラブ、下2層固定)\n",
    "cu_bulk = bulk(\"Cu\", \"fcc\", a=3.615)\n",
    "cu_surface = surface(cu_bulk, (1, 1, 1), layers=4, vacuum=10.0) * (3, 3, 1)\n",
    "cu_surface.center(axis=2)\n",
    "cu_surface = fix_layers(cu_surface, 1)\n",
    "\n",
    "# CO分子\n",
    "co_molecule = molecule(\"CO\")\n",
    "co_molecule.center(axis=2)\n",
    "\n",
    "# Cu-CO吸着構造 (top site)\n",
    "cu_co_adsorbed = cu_surface.copy()\n",
    "top_layer = separate_layers(cu_co_adsorbed)[-1]\n",
    "center_atom = find_central_atom(top_layer)\n",
    "add_adsorbate(\n",
    "    cu_co_adsorbed, co_molecule, height=1.2, position=center_atom.position[:2]\n",
    ")\n",
    "\n",
    "# ----------\n",
    "# ---吸着エネルギーの計算\n",
    "# ----------\n",
    "adsorbed_input = CAEInput(structure=cu_co_adsorbed, calc_mode=\"solid\")\n",
    "\n",
    "reactant_inputs = [\n",
    "    CAEInput(structure=cu_surface, calc_mode=\"solid\"),\n",
    "    CAEInput(structure=co_molecule, calc_mode=\"solid\"),\n",
    "]\n",
    "\n",
    "adsorption_energy = calculate_adsorption_energy(\n",
    "    calculator_molecule=calc_molecule,\n",
    "    calculator_solid=calc_solid,\n",
    "    adsorbed_structure_input=adsorbed_input,\n",
    "    reactant_structures_input=reactant_inputs,\n",
    "    opt_fmax=0.05,\n",
    "    opt_maxsteps=3000,\n",
    "    enable_logging=True,\n",
    ")\n",
    "\n",
    "adsorption_energy"
   ]
  },
  {
   "cell_type": "markdown",
   "id": "a05b7ffb",
   "metadata": {},
   "source": [
    "### 🟡生成エネルギーを計算する"
   ]
  },
  {
   "cell_type": "code",
   "execution_count": null,
   "id": "f97b2c7e",
   "metadata": {},
   "outputs": [],
   "source": [
    "from ase.cluster import Icosahedron, Octahedron\n",
    "from pfp_api_client.pfp.calculators.ase_calculator import ASECalculator\n",
    "from pfp_api_client.pfp.estimator import Estimator, EstimatorCalcMode\n",
    "\n",
    "from ase_toolbox.HandleAtoms import substitute_elements\n",
    "from ase_toolbox.Calculation import calculate_formation_energy\n",
    "\n",
    "# ----------\n",
    "# ---計算機の用意\n",
    "# ----------\n",
    "estimator = Estimator(calc_mode=EstimatorCalcMode.CRYSTAL_U0)\n",
    "calc_solid = ASECalculator(estimator)  # このcalculatorをatoms.calcに設定して使用する\n",
    "\n",
    "# ----------\n",
    "# ---構造の作成\n",
    "# ----------\n",
    "cluster = Icosahedron(\n",
    "    \"Cu\",\n",
    "    noshells=5,  # 原子の数\n",
    ")\n",
    "\n",
    "cluster = substitute_elements(cluster, cluster, {\"Cu\": 0.5, \"Au\": 0.5})\n",
    "\n",
    "# ----------\n",
    "# ---生成エネルギーの計算\n",
    "# ----------\n",
    "formation_energy = calculate_formation_energy(calc_solid, cluster)\n",
    "\n",
    "formation_energy\n"
   ]
  },
  {
   "cell_type": "markdown",
   "id": "233751ae",
   "metadata": {},
   "source": [
    "### 🟡NEBする"
   ]
  },
  {
   "cell_type": "code",
   "execution_count": null,
   "id": "ef9134ca",
   "metadata": {},
   "outputs": [],
   "source": [
    "from ase.build import molecule, fcc111\n",
    "from ase.constraints import FixBondLength\n",
    "\n",
    "from pfp_api_client.pfp.calculators.ase_calculator import ASECalculator\n",
    "from pfp_api_client.pfp.estimator import Estimator, EstimatorCalcMode\n",
    "from matlantis_features.ase_ext.optimize import FIRELBFGS\n",
    "\n",
    "from ase_toolbox.HandleAtoms import find_atom_by_index, add_adsorbate, move_atoms\n",
    "from ase_toolbox.Calculation import run_neb, plot_energy_profile\n",
    "\n",
    "# ---計算機を用意する\n",
    "estimator = Estimator(calc_mode=EstimatorCalcMode.CRYSTAL_U0)\n",
    "\n",
    "# ---特定のバルク構造を作る\n",
    "\n",
    "# ---二量化前の構造\n",
    "init_slab = fcc111(\"Cu\", size=(4, 4, 4), vacuum=10.0)\n",
    "atom1 = find_atom_by_index(init_slab, 53)\n",
    "atom2 = find_atom_by_index(init_slab, 54)\n",
    "\n",
    "co1 = molecule(\"CO\")\n",
    "co2 = molecule(\"CO\")\n",
    "\n",
    "add_adsorbate(init_slab, co1, 2.5, atom1.position)\n",
    "add_adsorbate(init_slab, co2, 2.5, atom2.position)\n",
    "\n",
    "# ---二量化後の構造\n",
    "distance = 0.4\n",
    "final_slab = init_slab.copy()\n",
    "move_atoms(final_slab, [64, 65], (1, 0, 0), distance, inplace=True)\n",
    "move_atoms(final_slab, [66, 67], (1, 0, 0), distance, inplace=True)\n",
    "\n",
    "# ---C-C結合を強制的に維持する(そのままoptすると離れちゃうので)\n",
    "constraint = FixBondLength(a1=65, a2=67)\n",
    "final_slab.set_constraint(constraint)\n",
    "\n",
    "# ---nebを実行する\n",
    "images, energies = run_neb(init_slab, final_slab, 14, FIRELBFGS, estimator)\n",
    "\n",
    "# ---描画する\n",
    "fig, ax = plot_energy_profile(energies)\n"
   ]
  },
  {
   "cell_type": "markdown",
   "id": "2d07ffb7",
   "metadata": {},
   "source": [
    "### 🟡ギブス自由エネルギーを計算する"
   ]
  },
  {
   "cell_type": "code",
   "execution_count": null,
   "id": "17452800",
   "metadata": {},
   "outputs": [],
   "source": [
    "from ase.build import surface, molecule, bulk, add_adsorbate\n",
    "from pfp_api_client.pfp.calculators.ase_calculator import ASECalculator\n",
    "from pfp_api_client.pfp.estimator import Estimator, EstimatorCalcMode\n",
    "\n",
    "from ase_toolbox.HandleAtoms import separate_layers, find_central_atom, fix_layers\n",
    "from ase_toolbox.Calculation import calculate_delta_g, CGFEInput\n",
    "\n",
    "\n",
    "# 例: HO* + H+ + e- -> H2O + *\n",
    "# ----------\n",
    "# ---計算機の用意\n",
    "# ----------\n",
    "estimator = Estimator(calc_mode=EstimatorCalcMode.CRYSTAL_U0)\n",
    "calc_solid = ASECalculator(estimator)  # このcalculatorをatoms.calcに設定して使用する\n",
    "\n",
    "estimator = Estimator(calc_mode=EstimatorCalcMode.MOLECULE)\n",
    "calc_molecule = ASECalculator(estimator)  # このcalculatorをatoms.calcに設定して使用する\n",
    "\n",
    "# ---構造の用意\n",
    "\n",
    "# 4x4x4のPt(111)表面を作成\n",
    "\n",
    "# ---Pt(111)表面（4x4の表面、4層）\n",
    "pt_bulk = bulk(\"Pt\", a=3.92)  # Ptの格子定数\n",
    "pt_slab = surface(pt_bulk, indices=(1, 1, 1), layers=4, vacuum=10.0)\n",
    "pt_slab = pt_slab * (4, 4, 1)  # 4x4に拡張\n",
    "\n",
    "# ---清浄なPt表面（生成物用）\n",
    "clean_pt_slab = pt_slab.copy()\n",
    "\n",
    "# ---OH分子\n",
    "oh_molecule = molecule(\"OH\")\n",
    "oh_molecule.rotate(180, v=\"y\")\n",
    "\n",
    "# ---Pt表面にOHを吸着させた構造\n",
    "# 表面の中央付近の原子を選択（top site吸着を想定）\n",
    "oh_on_pt = pt_slab.copy()\n",
    "layers = separate_layers(oh_on_pt)\n",
    "center_atom = find_central_atom(layers[-1])\n",
    "\n",
    "add_adsorbate(oh_on_pt, oh_molecule, height=2.0, position=center_atom.position[0:2])\n",
    "oh_on_pt.center(vacuum=10.0, axis=2)\n",
    "\n",
    "# 下を固定\n",
    "oh_on_pt = fix_layers(oh_on_pt, 2)\n",
    "clean_pt_slab = fix_layers(clean_pt_slab, 2)\n",
    "\n",
    "# H2O分子\n",
    "h2o_molecule = molecule(\"H2O\")\n",
    "\n",
    "# ---計算の実行\n",
    "delta_g = calculate_delta_g(\n",
    "    calculator_molecule=calc_molecule,\n",
    "    calculator_solid=calc_solid,\n",
    "    reactants=[\n",
    "        CGFEInput(\n",
    "            structure=oh_on_pt,  # Pt-OH構造\n",
    "            calc_mode=\"HarmonicThermo\",\n",
    "            vibrate_indices=[64, 65, 19, 35, 51, 23, 39, 55],\n",
    "        ),\n",
    "        \"CHE\",  # H+ + e-\n",
    "    ],\n",
    "    products=[\n",
    "        CGFEInput(\n",
    "            structure=h2o_molecule,  # H2O（気相）\n",
    "            calc_mode=\"IdealGasThermo\",\n",
    "            vibrate_indices=None,\n",
    "            geometry=\"nonlinear\",\n",
    "            symmetry_number=2,\n",
    "            spin_multiplicity=1,\n",
    "        ),\n",
    "        CGFEInput(\n",
    "            structure=clean_pt_slab,  # 清浄なPt表面\n",
    "            calc_mode=\"HarmonicThermo\",  # 固体表面なのでHarmonicThermo\n",
    "            vibrate_indices=[],  # 振動させる原子なし\n",
    "        ),\n",
    "    ],\n",
    "    temperature=298.15,\n",
    "    pressure=101325,\n",
    "    electrode_potential=0.0,\n",
    "    pH=0,\n",
    "    opt_maxsteps=1500,\n",
    "    enable_logging=True,\n",
    ")\n",
    "\n",
    "# ---結果の表示\n",
    "print(f\"ΔG for HO* + H+ + e- -> H2O + * = {delta_g:.3f} eV\")\n"
   ]
  },
  {
   "cell_type": "markdown",
   "id": "5ee677fe",
   "metadata": {},
   "source": [
    "### 🟡格子定数を計算する"
   ]
  },
  {
   "cell_type": "code",
   "execution_count": null,
   "id": "fb5e42df",
   "metadata": {},
   "outputs": [],
   "source": [
    "from ase.build import bulk\n",
    "from ase_toolbox.Calculation import optimize_lattice_constant\n",
    "\n",
    "from pfp_api_client.pfp.calculators.ase_calculator import ASECalculator\n",
    "from pfp_api_client.pfp.estimator import Estimator, EstimatorCalcMode\n",
    "\n",
    "# ---計算機の用意\n",
    "estimator = Estimator(calc_mode=EstimatorCalcMode.CRYSTAL_U0)\n",
    "calc_solid = ASECalculator(estimator)  # このcalculatorをatoms.calcに設定して使用する\n",
    "\n",
    "# ---原子構造の作成\n",
    "atoms = bulk(\"Si\", \"diamond\", a=5.4)\n",
    "\n",
    "# ---格子の最適化・格子定数の取得\n",
    "lattice_result = optimize_lattice_constant(atoms, calc_solid)\n",
    "lattice_result\n"
   ]
  }
 ],
 "metadata": {
  "kernelspec": {
   "display_name": "1: Python 3.11",
   "language": "python",
   "name": "python311"
  },
  "language_info": {
   "codemirror_mode": {
    "name": "ipython",
    "version": 3
   },
   "file_extension": ".py",
   "mimetype": "text/x-python",
   "name": "python",
   "nbconvert_exporter": "python",
   "pygments_lexer": "ipython3",
   "version": "3.11.11"
  }
 },
 "nbformat": 4,
 "nbformat_minor": 5
}
