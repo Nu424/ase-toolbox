{
 "cells": [
  {
   "cell_type": "markdown",
   "id": "70f7bcbd",
   "metadata": {},
   "source": [
    "# ase-toolbox.ipynb\n",
    "ASEによる化学シミュレーションでよく使うコードと、作ったヘルパー関数をまとめておくやつ。"
   ]
  },
  {
   "cell_type": "markdown",
   "id": "2178a827",
   "metadata": {},
   "source": [
    "### 🟡計算機を用意する(Matlantis環境)"
   ]
  },
  {
   "cell_type": "code",
   "execution_count": null,
   "id": "f3549a8c",
   "metadata": {},
   "outputs": [],
   "source": [
    "import pfp_api_client\n",
    "from pfp_api_client.pfp.calculators.ase_calculator import ASECalculator\n",
    "from pfp_api_client.pfp.estimator import Estimator, EstimatorCalcMode\n",
    "\n",
    "# バージョンによって計算結果が異なる場合があるため、毎回バージョンを確認する\n",
    "print(f\"pfp_api_client: {pfp_api_client.__version__}\")\n",
    "\n",
    "# ASECalculatorを使用するための設定\n",
    "# EstimatorCalcModeは、以下のように使い分ける\n",
    "# - 一般の系： EstimatorCalcMode.CRYSTAL_U0 Uなしモード\n",
    "# - 酸化物など： EstimatorCalcMode.CRYSTAL　Uありモード\n",
    "# - 単体有機分子： EstimatorCalcMode.MOLECULE 分子モード\n",
    "estimator = Estimator(calc_mode=EstimatorCalcMode.MOLECULE)\n",
    "calculator = ASECalculator(estimator)  # このcalculatorをatoms.calcに設定して使用する\n"
   ]
  },
  {
   "cell_type": "markdown",
   "id": "788c4ebb",
   "metadata": {},
   "source": [
    "### 🟡matplotlibで日本語を表示する"
   ]
  },
  {
   "cell_type": "code",
   "execution_count": null,
   "id": "c686d318",
   "metadata": {},
   "outputs": [],
   "source": [
    "# ---matplotlibで日本語を表示する\n",
    "plt.rcParams['font.family'] = ['DejaVu Sans', 'Hiragino Sans', 'Yu Gothic', 'Meiryo', 'Takao', 'IPAexGothic', 'IPAPGothic', 'VL PGothic', 'Noto Sans CJK JP']\n",
    "# Windows環境での代替設定\n",
    "try:\n",
    "    import matplotlib.font_manager as fm\n",
    "    # 日本語フォントを探す\n",
    "    font_list = [f.name for f in fm.fontManager.ttflist if 'gothic' in f.name.lower() or 'mincho' in f.name.lower() or 'meiryo' in f.name.lower()]\n",
    "    if font_list:\n",
    "        plt.rcParams['font.family'] = font_list[0]\n",
    "    else:\n",
    "        # フォールバック: Unicode対応\n",
    "        plt.rcParams['font.family'] = 'DejaVu Sans'\n",
    "except:\n",
    "    pass\n",
    "\n",
    "plt.rcParams['font.family']"
   ]
  },
  {
   "cell_type": "markdown",
   "id": "fbeadeb7",
   "metadata": {},
   "source": [
    "### 🟡可視化する"
   ]
  },
  {
   "cell_type": "code",
   "execution_count": null,
   "id": "baa6ccbf",
   "metadata": {},
   "outputs": [],
   "source": [
    "from pfcc_extras.visualize.view import view_ngl\n",
    "from ase.build import bulk\n",
    "\n",
    "view_ngl(bulk(\"Cu\"), representations=[\"ball+stick\"], w=400, h=300)"
   ]
  },
  {
   "cell_type": "markdown",
   "id": "8cd93ccb",
   "metadata": {},
   "source": [
    "### 🟡最適化\n",
    "\n",
    "#### 最適化アルゴリズムについて\n",
    "- 局所最適へのたどり着き方(=アルゴリズム)は、いろいろある\n",
    "- 選び方\n",
    "    - 基本的に`LBFGSLineSearch`か`FIRE`を使えば良いらしい\n",
    "        - `LBFGSLineSearch`がうまくいかなかったら`FIRE`を使う、みたいな\n",
    "    - 選ぶのが面倒なら、上の2つを組み合わせた`FIRELBFGS`を使うと良い\n",
    "        - Matlantisオリジナルの最適化アルゴリズム\n",
    "        - 使用方法は、2つ下のセルに示す\n",
    "    - 局所最適を探すアルゴリズムの違いなだけなので、シミュレーションに大きく差が生じることはないのかもしれない\n",
    "- 参考文献\n",
    "    - https://docs.matlantis.com/atomistic-simulation-tutorial/ja/2_3_opt-algorithm.html"
   ]
  },
  {
   "cell_type": "code",
   "execution_count": null,
   "id": "7b3b67c2",
   "metadata": {},
   "outputs": [],
   "source": [
    "from ase.optimize import FIRE, LBFGSLineSearch\n",
    "\n",
    "opt = FIRE(atoms)\n",
    "opt.run(fmax=0.001)\n"
   ]
  },
  {
   "cell_type": "code",
   "execution_count": null,
   "id": "1cd1b5f0",
   "metadata": {},
   "outputs": [],
   "source": [
    "# FIRELBFGS 最適化アルゴリズムの使い方(Matlantisオリジナル)\n",
    "from matlantis_features.ase_ext.optimize import FIRELBFGS\n",
    "\n",
    "opt = FIRELBFGS(atoms)\n",
    "opt.run(fmax=0.001)\n"
   ]
  },
  {
   "cell_type": "markdown",
   "id": "80ba0685",
   "metadata": {},
   "source": [
    "### 🟡書き出す"
   ]
  },
  {
   "cell_type": "code",
   "execution_count": null,
   "id": "a51f8fa3",
   "metadata": {},
   "outputs": [],
   "source": [
    "# 内蔵ライブラリからcifファイルを作成する\n",
    "from ase.build import molecule\n",
    "from ase.io import write\n",
    "\n",
    "# 出力先ディレクトリ（必要に応じて変更）\n",
    "output_dir = \"./\"\n",
    "\n",
    "# 分子リスト\n",
    "species = [\"CO2\", \"CO\", \"H2\", \"H2O\", \"O2\"]\n",
    "\n",
    "for sym in species:\n",
    "    mol = molecule(sym)  # ASE 内蔵の分子ライブラリから生成\n",
    "    filename = f\"{output_dir}{sym}.cif\"\n",
    "    write(filename, mol)  # CIF 形式で保存\n",
    "    print(f\"Written: {filename}\")\n"
   ]
  },
  {
   "cell_type": "markdown",
   "id": "48653df4",
   "metadata": {},
   "source": [
    "## 🔴構造を作る"
   ]
  },
  {
   "cell_type": "markdown",
   "id": "8c20e427",
   "metadata": {},
   "source": [
    "### 🟡基本的な構造"
   ]
  },
  {
   "cell_type": "code",
   "execution_count": null,
   "id": "112424f7",
   "metadata": {},
   "outputs": [],
   "source": [
    "from ase.build import molecule, bulk, surface\n",
    "from ase.io import read, write\n",
    "\n",
    "# ---分子\n",
    "co = molecule(\"CO\")\n",
    "\n",
    "# ---結晶\n",
    "cu = bulk(\"Cu\")\n",
    "# 増やす\n",
    "_cu = cu * (2, 3, 4)\n",
    "\n",
    "# ---表面\n",
    "slab = surface(\n",
    "    lattice=cu, indices=(1, 1, 1), layers=2, vacuum=10.0\n",
    ")  # cuの、(111)面を2層で真空層10.0Åで切り出す\n",
    "\n",
    "# ---ファイルから\n",
    "# cif,xyz,vaspからいけるらしい\n",
    "# cu2o=read('Cu2O.cif')\n",
    "\n",
    "# ---構造のコピー\n",
    "# Pythonのルールとして、cu_copy = cu とするだけだと、cu_copyもcuも同じものを指し示してしまう\n",
    "# (「Python 参照渡し」とかを調べるとわかる)\n",
    "# copy()を使えば、別のオブジェクトとして扱える\n",
    "\n",
    "\n",
    "cu_copy = cu.copy()\n",
    "cu_copy[0].symbol = \"O\"  # コピー先の原子を変えてみる\n",
    "print(\"=== cu_copy = cu.copy()の場合 ===\")\n",
    "print(f\"コピー元: {cu[0].symbol}\")  # コピー元: Cu\n",
    "print(f\"コピー先: {cu_copy[0].symbol}\")  # コピー先: O\n",
    "# copy()することで、コピー元とコピー先が別のものを指し示すようになる\n",
    "\n",
    "cu_ref = cu\n",
    "cu_ref[0].symbol = \"O\"\n",
    "print(\"=== cu_ref = cuの場合 ===\")\n",
    "print(f\"コピー元: {cu_ref[0].symbol}\")  # コピー元: O\n",
    "print(f\"コピー先: {cu[0].symbol}\")  # コピー先: O\n",
    "# そのまま = で代入すると、コピー元とコピー先が同じものを指し示してしまうので、どちらも置き換わってしまう\n"
   ]
  },
  {
   "cell_type": "markdown",
   "id": "47162162",
   "metadata": {},
   "source": [
    "### 🟡クラスター"
   ]
  },
  {
   "cell_type": "code",
   "execution_count": null,
   "id": "f81a7abe",
   "metadata": {},
   "outputs": [],
   "source": [
    "from ase.cluster import Icosahedron, Octahedron\n",
    "from pfcc_extras.visualize.view import view_ngl\n",
    "\n",
    "# ---八面体\n",
    "# 正八面体\n",
    "_cluster = Octahedron(\n",
    "    \"Cu\",\n",
    "    length=7,  # 層の数\n",
    "    cutoff=0,  # 頂点をどれくらい切るか。0だと切らない。\n",
    ")\n",
    "\n",
    "# 切頂八面体: 頂点が切られている八面体\n",
    "_cluster = Octahedron(\"Cu\", length=7, cutoff=2)\n",
    "\n",
    "# 正切頂八面体\n",
    "_cluster = Octahedron(\n",
    "    \"Cu\",\n",
    "    length=7,  # length=3*cutoff+1で、正切頂八面体となる\n",
    "    cutoff=2,\n",
    ")\n",
    "\n",
    "# 立方八面体\n",
    "_cluster = Octahedron(\n",
    "    \"Cu\",\n",
    "    length=5,  # length=2*cutoff+1で、立方八面体となる\n",
    "    cutoff=2,\n",
    ")\n",
    "\n",
    "# ---二十面体\n",
    "_cluster = Icosahedron(\n",
    "    \"Cu\",\n",
    "    noshells=5,  # 原子の数\n",
    ")\n",
    "\n",
    "# クラスターの原子数の確認\n",
    "print(f\"原子数: {len(_cluster)}\")\n",
    "\n",
    "# 構造を可視化してみる\n",
    "view_ngl(_cluster, representations=[\"ball+stick\"], w=400, h=300)\n"
   ]
  },
  {
   "cell_type": "markdown",
   "id": "254a6eb1",
   "metadata": {},
   "source": [
    "### 🟡特定の原子を探す"
   ]
  },
  {
   "cell_type": "code",
   "execution_count": null,
   "id": "9d76353d",
   "metadata": {},
   "outputs": [],
   "source": [
    "from FindAtoms import *\n",
    "from ase.cluster import Icosahedron\n",
    "from ase.build import surface, bulk\n",
    "\n",
    "test_slab = surface(bulk(\"Cu\"), indices=(1, 1, 1), layers=2, vacuum=10.0)\n",
    "test_cluster = Icosahedron(\"Cu\", noshells=5)\n"
   ]
  },
  {
   "cell_type": "markdown",
   "id": "973abec0",
   "metadata": {},
   "source": [
    "#### 🟢インデックスでピンポイントに指定する"
   ]
  },
  {
   "cell_type": "code",
   "execution_count": null,
   "id": "44537ea0",
   "metadata": {},
   "outputs": [],
   "source": [
    "# test_slabの0番目の原子を探す\n",
    "find_atom_by_index(test_slab, 0)"
   ]
  },
  {
   "cell_type": "markdown",
   "id": "ba5cd32f",
   "metadata": {},
   "source": [
    "#### 🟢指定した原子のインデックスを調べる"
   ]
  },
  {
   "cell_type": "code",
   "execution_count": null,
   "id": "8fb0c4c9",
   "metadata": {},
   "outputs": [],
   "source": [
    "# Cu原子のインデックスを調べる\n",
    "find_indices_by_symbol(test_slab, \"Cu\")"
   ]
  },
  {
   "cell_type": "markdown",
   "id": "3d98f3d9",
   "metadata": {},
   "source": [
    "#### 🟢隣接原子を探す"
   ]
  },
  {
   "cell_type": "code",
   "execution_count": null,
   "id": "44b38ae4",
   "metadata": {},
   "outputs": [],
   "source": [
    "# test_slabの0番目の原子の、隣接原子を探す\n",
    "get_neighbors(test_slab, 0)"
   ]
  }
 ],
 "metadata": {
  "language_info": {
   "name": "python"
  }
 },
 "nbformat": 4,
 "nbformat_minor": 5
}
